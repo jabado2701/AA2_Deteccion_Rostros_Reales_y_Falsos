{
 "cells": [
  {
   "cell_type": "code",
   "execution_count": 1,
   "metadata": {},
   "outputs": [],
   "source": [
    "import torch\n",
    "import torch.nn as nn\n",
    "import torch.optim as optim\n",
    "from torchvision import datasets, transforms, models\n",
    "from torch.utils.data import DataLoader, random_split\n",
    "import numpy as np\n",
    "import os\n",
    "import torchvision.utils as vutils\n",
    "import matplotlib.pyplot as plt"
   ]
  },
  {
   "cell_type": "code",
   "execution_count": 2,
   "metadata": {},
   "outputs": [
    {
     "name": "stdout",
     "output_type": "stream",
     "text": [
      "Usando cuda para entrenar\n"
     ]
    }
   ],
   "source": [
    "device = torch.device('cuda' if torch.cuda.is_available() else 'cpu')\n",
    "print(f'Usando {device} para entrenar')"
   ]
  },
  {
   "cell_type": "code",
   "execution_count": 3,
   "metadata": {},
   "outputs": [],
   "source": [
    "torch.cuda.empty_cache()"
   ]
  },
  {
   "cell_type": "code",
   "execution_count": 4,
   "metadata": {},
   "outputs": [],
   "source": [
    "DATASET = os.path.join('datasets', 'real_and_fake_face') # esto puede cambiar dependiendo de donde se ejecute el notebook"
   ]
  },
  {
   "cell_type": "code",
   "execution_count": 5,
   "metadata": {},
   "outputs": [],
   "source": [
    "data_transforms = transforms.Compose([\n",
    "    transforms.Resize((224, 224)),\n",
    "    transforms.RandomHorizontalFlip(p=0.5),\n",
    "    transforms.ToTensor(),\n",
    "    transforms.Normalize(mean=[0.485, 0.456, 0.406], std=[0.229, 0.224, 0.225]\n",
    ")\n",
    "])\n",
    "\n",
    "full_dataset = datasets.ImageFolder(root=DATASET, transform=data_transforms)\n",
    "\n",
    "# Dividir el conjunto de datos en entrenamiento, validación y prueba\n",
    "train_size = int(0.7 * len(full_dataset))  # 70% para entrenamiento\n",
    "valid_size = int(0.2 * len(full_dataset))  # 20% para validación\n",
    "test_size = len(full_dataset) - train_size - valid_size  # Resto para prueba\n",
    "\n",
    "train_dataset, valid_dataset, test_dataset = random_split(\n",
    "    full_dataset, [train_size, valid_size, test_size])\n",
    "\n",
    "# Crear DataLoaders para cada conjunto\n",
    "batch_size = 32\n",
    "\n",
    "\n",
    "\n",
    "train_loader = DataLoader(train_dataset, batch_size=batch_size, shuffle=True)\n",
    "valid_loader = DataLoader(valid_dataset, batch_size=batch_size, shuffle=True)\n",
    "test_loader = DataLoader(test_dataset, batch_size=batch_size, shuffle=False)"
   ]
  },
  {
   "cell_type": "code",
   "execution_count": 6,
   "metadata": {},
   "outputs": [
    {
     "name": "stdout",
     "output_type": "stream",
     "text": [
      "0 torch.Size([64, 3, 7, 7])\n",
      "1 torch.Size([64])\n",
      "2 torch.Size([64])\n",
      "3 torch.Size([64, 64, 3, 3])\n",
      "4 torch.Size([64])\n",
      "5 torch.Size([64])\n",
      "6 torch.Size([64, 64, 3, 3])\n",
      "7 torch.Size([64])\n",
      "8 torch.Size([64])\n",
      "9 torch.Size([64, 64, 3, 3])\n",
      "10 torch.Size([64])\n",
      "11 torch.Size([64])\n",
      "12 torch.Size([64, 64, 3, 3])\n",
      "13 torch.Size([64])\n",
      "14 torch.Size([64])\n",
      "15 torch.Size([128, 64, 3, 3])\n",
      "16 torch.Size([128])\n",
      "17 torch.Size([128])\n",
      "18 torch.Size([128, 128, 3, 3])\n",
      "19 torch.Size([128])\n",
      "20 torch.Size([128])\n",
      "21 torch.Size([128, 64, 1, 1])\n",
      "22 torch.Size([128])\n",
      "23 torch.Size([128])\n",
      "24 torch.Size([128, 128, 3, 3])\n",
      "25 torch.Size([128])\n",
      "26 torch.Size([128])\n",
      "27 torch.Size([128, 128, 3, 3])\n",
      "28 torch.Size([128])\n",
      "29 torch.Size([128])\n",
      "30 torch.Size([256, 128, 3, 3])\n",
      "31 torch.Size([256])\n",
      "32 torch.Size([256])\n",
      "33 torch.Size([256, 256, 3, 3])\n",
      "34 torch.Size([256])\n",
      "35 torch.Size([256])\n",
      "36 torch.Size([256, 128, 1, 1])\n",
      "37 torch.Size([256])\n",
      "38 torch.Size([256])\n",
      "39 torch.Size([256, 256, 3, 3])\n",
      "40 torch.Size([256])\n",
      "41 torch.Size([256])\n",
      "42 torch.Size([256, 256, 3, 3])\n",
      "43 torch.Size([256])\n",
      "44 torch.Size([256])\n",
      "45 torch.Size([512, 256, 3, 3])\n",
      "46 torch.Size([512])\n",
      "47 torch.Size([512])\n",
      "48 torch.Size([512, 512, 3, 3])\n",
      "49 torch.Size([512])\n",
      "50 torch.Size([512])\n",
      "51 torch.Size([512, 256, 1, 1])\n",
      "52 torch.Size([512])\n",
      "53 torch.Size([512])\n",
      "54 torch.Size([512, 512, 3, 3])\n",
      "55 torch.Size([512])\n",
      "56 torch.Size([512])\n",
      "57 torch.Size([512, 512, 3, 3])\n",
      "58 torch.Size([512])\n",
      "59 torch.Size([512])\n",
      "60 torch.Size([1000, 512])\n",
      "61 torch.Size([1000])\n"
     ]
    },
    {
     "name": "stderr",
     "output_type": "stream",
     "text": [
      "c:\\Users\\Jaime\\anaconda3\\envs\\aa1\\lib\\site-packages\\torchvision\\models\\_utils.py:208: UserWarning: The parameter 'pretrained' is deprecated since 0.13 and may be removed in the future, please use 'weights' instead.\n",
      "  warnings.warn(\n",
      "c:\\Users\\Jaime\\anaconda3\\envs\\aa1\\lib\\site-packages\\torchvision\\models\\_utils.py:223: UserWarning: Arguments other than a weight enum or `None` for 'weights' are deprecated since 0.13 and may be removed in the future. The current behavior is equivalent to passing `weights=ResNet18_Weights.IMAGENET1K_V1`. You can also use `weights=ResNet18_Weights.DEFAULT` to get the most up-to-date weights.\n",
      "  warnings.warn(msg)\n"
     ]
    }
   ],
   "source": [
    "# Cargar el modelo preentrenado\n",
    "#vgg16 = models.vgg16(pretrained=True)\n",
    "pretrained = models.resnet18(pretrained=True)\n",
    "\n",
    "for i, param in enumerate(pretrained.parameters()):\n",
    "    print(i, param.shape)\n",
    "    if i < 14:\n",
    "        param.requires_grad = False"
   ]
  },
  {
   "cell_type": "code",
   "execution_count": 7,
   "metadata": {},
   "outputs": [],
   "source": [
    "pretrained.classifier = None\n",
    "# Cambiar las capas del clasificador para posible mejora del rendimiento\n",
    "pretrained.classifier = nn.Sequential(\n",
    "    nn.Flatten(),\n",
    "    nn.Linear(512 * 7 * 7, 2048),\n",
    "    nn.ReLU(),\n",
    "    nn.Dropout(0.5),\n",
    "    nn.Linear(2048, 512),\n",
    "    nn.ReLU(),\n",
    "    nn.Dropout(0.5),\n",
    "    nn.Linear(512, 2),\n",
    ")"
   ]
  },
  {
   "cell_type": "code",
   "execution_count": 8,
   "metadata": {},
   "outputs": [],
   "source": [
    "device = torch.device(\"cuda:0\" if torch.cuda.is_available() else \"cpu\")\n",
    "pretrained.to(device)\n",
    "\n",
    "criterion = nn.CrossEntropyLoss()\n",
    "optimizer = optim.Adam(pretrained.parameters(), lr=0.0001, weight_decay=0.01)\n",
    "#optimizer = optim.SGD(vgg16.parameters(), lr=0.001, momentum=0.9)\n",
    "#optimizer  = optim.AdamW(vgg16.parameters(), lr=0.0001, weight_decay=0.01)\n",
    "#optimizer = optim.RMSprop(vgg16.parameters(), lr=0.00005, momentum=0.9)\n",
    "#optimizer = optim.Adagrad(vgg16.parameters(), lr=0.005, lr_decay=0.01, weight_decay=0.01)\n",
    "\n"
   ]
  },
  {
   "cell_type": "code",
   "execution_count": 9,
   "metadata": {},
   "outputs": [],
   "source": [
    "# Función para entrenar el modelo\n",
    "def train_model(model, criterion, optimizer, train_loader):\n",
    "    \n",
    "    model.train()  \n",
    "    running_loss = 0.0\n",
    "\n",
    "    for inputs, labels in train_loader:\n",
    "        inputs, labels = inputs.to(device), labels.to(device)\n",
    "        optimizer.zero_grad()\n",
    "        outputs = model(inputs)\n",
    "        loss = criterion(outputs, labels)\n",
    "        loss.backward()\n",
    "        optimizer.step()\n",
    "\n",
    "        running_loss += loss.item() * inputs.size(0)\n",
    "    epoch_loss = running_loss / len(train_dataset)\n",
    "        \n",
    "\n",
    "    return epoch_loss\n",
    "\n",
    "# Función para evaluar la precisión del modelo\n",
    "def evaluate_model(model, data_loader):\n",
    "    model.eval()  \n",
    "    correct = 0\n",
    "    total = 0\n",
    "\n",
    "    for inputs, labels in data_loader:\n",
    "        inputs, labels = inputs.to(device), labels.to(device)\n",
    "        outputs = model(inputs)\n",
    "        _, predicted = torch.max(outputs, 1)\n",
    "        total += labels.size(0)\n",
    "        correct += (predicted == labels).sum().item()\n",
    "\n",
    "    accuracy = 100 * correct / total\n",
    "    print(f'Accuracy: {accuracy:.2f}%')\n",
    "    return accuracy"
   ]
  },
  {
   "cell_type": "code",
   "execution_count": 10,
   "metadata": {},
   "outputs": [
    {
     "name": "stdout",
     "output_type": "stream",
     "text": [
      "Epoch 1/5, Loss: 5.6816\n",
      "Accuracy: 64.95%\n",
      "Epoch 2/5, Loss: 1.1159\n",
      "Accuracy: 62.25%\n",
      "Epoch 3/5, Loss: 0.4356\n",
      "Accuracy: 66.42%\n",
      "Epoch 4/5, Loss: 0.2563\n",
      "Accuracy: 68.63%\n",
      "Epoch 5/5, Loss: 0.1764\n",
      "Accuracy: 70.10%\n"
     ]
    }
   ],
   "source": [
    "num_epochs = 5\n",
    "loss_list = []\n",
    "accuracy_list = []\n",
    "for epoch in range(num_epochs):\n",
    "    train_loader = DataLoader(train_dataset, batch_size=batch_size, shuffle=True)\n",
    "    valid_loader = DataLoader(valid_dataset, batch_size=batch_size, shuffle=True)\n",
    "    epoch_loss = train_model(pretrained, criterion, optimizer, train_loader)\n",
    "    print(f'Epoch {epoch+1}/{num_epochs}, Loss: {epoch_loss:.4f}')\n",
    "    accuracy = evaluate_model(pretrained, valid_loader)\n",
    "    \n",
    "    loss_list.append(epoch_loss)\n",
    "    accuracy_list.append(accuracy)\n"
   ]
  },
  {
   "cell_type": "code",
   "execution_count": 11,
   "metadata": {},
   "outputs": [
    {
     "data": {
      "image/png": "[encoded data removed]",
      "text/plain": [
       "<Figure size 1000x500 with 1 Axes>"
      ]
     },
     "metadata": {},
     "output_type": "display_data"
    },
    {
     "data": {
      "image/png": "[encoded data removed]",
      "text/plain": [
       "<Figure size 1000x500 with 1 Axes>"
      ]
     },
     "metadata": {},
     "output_type": "display_data"
    }
   ],
   "source": [
    "plt.figure(figsize=(10,5))\n",
    "plt.title(\"Loss vs. Number of Training Epochs\")\n",
    "plt.xlabel(\"Training Epochs\")\n",
    "plt.ylabel(\"Loss\")\n",
    "plt.plot(range(1, num_epochs + 1), loss_list, label=\"Training Loss\")\n",
    "plt.grid(True)\n",
    "plt.ylim(0, 1)\n",
    "plt.show()\n",
    "\n",
    "plt.figure(figsize=(10,5))\n",
    "plt.title(\"Accuracy vs. Number of Training Epochs\")\n",
    "plt.xlabel(\"Training Epochs\")\n",
    "plt.ylabel(\"Accuracy\")\n",
    "plt.plot(range(1, num_epochs + 1), accuracy_list, label=\"Validation Accuracy\")\n",
    "plt.grid(True)\n",
    "plt.ylim(50, 80)\n",
    "plt.show()"
   ]
  },
  {
   "cell_type": "code",
   "execution_count": 12,
   "metadata": {},
   "outputs": [
    {
     "name": "stdout",
     "output_type": "stream",
     "text": [
      "Accuracy: 63.90%\n"
     ]
    },
    {
     "data": {
      "text/plain": [
       "63.90243902439025"
      ]
     },
     "execution_count": 12,
     "metadata": {},
     "output_type": "execute_result"
    }
   ],
   "source": [
    "evaluate_model(pretrained, test_loader)"
   ]
  }
 ],
 "metadata": {
  "kernelspec": {
   "display_name": "aa1",
   "language": "python",
   "name": "python3"
  },
  "language_info": {
   "codemirror_mode": {
    "name": "ipython",
    "version": 3
   },
   "file_extension": ".py",
   "mimetype": "text/x-python",
   "name": "python",
   "nbconvert_exporter": "python",
   "pygments_lexer": "ipython3",
   "version": "3.10.9"
  }
 },
 "nbformat": 4,
 "nbformat_minor": 2
}
